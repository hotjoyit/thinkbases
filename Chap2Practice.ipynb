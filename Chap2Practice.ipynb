{
 "cells": [
  {
   "cell_type": "code",
   "execution_count": 5,
   "metadata": {
    "collapsed": false
   },
   "outputs": [],
   "source": [
    "from thinkbayes import Pmf\n",
    "from __future__ import division\n",
    "\n",
    "class Bowl:\n",
    "    vanilla=0\n",
    "    chocolate=0\n",
    "    vanillaPercent=0.0\n",
    "    chocolatePercent=0.0\n",
    "\n",
    "    def __init__(self, vanilla, chocolate):\n",
    "        self.vanilla = vanilla\n",
    "        self.chocolate = chocolate\n",
    "        self.normalize()\n",
    "    def pickOne(self, cookie):\n",
    "        self.normalize()\n",
    "        if cookie == 'vanilla':\n",
    "            self.vanilla = self.vanilla - 1\n",
    "        else:\n",
    "            self.chocolate = self.chocolate - 1\n",
    "\n",
    "    def normalize(self):\n",
    "        total = self.chocolate + self.vanilla\n",
    "        self.chocolatePercent = self.chocolate / total\n",
    "        self.vanillaPercent = self.vanilla / total\n",
    "\n",
    "    def getPercent(self, cookie):\n",
    "        if (cookie == 'vanilla'):\n",
    "            return self.vanillaPercent\n",
    "        else:\n",
    "            return self.chocolatePercent\n",
    "\n",
    "class Cookie(Pmf):\n",
    "    \n",
    "    def __init__(self, hypos):\n",
    "        Pmf.__init__(self)\n",
    "        for hypo in hypos:\n",
    "            self.Set(hypo, 1)\n",
    "        self.Normalize()\n",
    "    def Update(self, data):\n",
    "        for hypo in self.Values():\n",
    "            like = self.Likelihood(data, hypo)\n",
    "            self.Mult(hypo, like)\n",
    "        self.Normalize()\n",
    "        \n",
    "            \n",
    "    mixes = {\n",
    "        'Bowl 1':Bowl(20, 20),\n",
    "        'Bowl 2':Bowl(30, 10)\n",
    "    }\n",
    "    \n",
    "    def Likelihood(self, data, hypo):\n",
    "        self.Normalize()\n",
    "        mix = self.mixes[hypo]\n",
    "        mix.pickOne(data)\n",
    "        like = mix.getPercent(data)\n",
    "        return like"
   ]
  },
  {
   "cell_type": "code",
   "execution_count": 6,
   "metadata": {
    "collapsed": false
   },
   "outputs": [
    {
     "name": "stdout",
     "output_type": "stream",
     "text": [
      "('Bowl 2', 0.5)\n",
      "('Bowl 1', 0.5)\n"
     ]
    }
   ],
   "source": [
    "hypos = ['Bowl 1', 'Bowl 2']\n",
    "pmf = Cookie(hypos)\n",
    "for item in pmf.Items():\n",
    "    print item"
   ]
  },
  {
   "cell_type": "code",
   "execution_count": 7,
   "metadata": {
    "collapsed": false
   },
   "outputs": [
    {
     "name": "stdout",
     "output_type": "stream",
     "text": [
      "Bowl 2 0.5\n",
      "Bowl 1 0.5\n"
     ]
    }
   ],
   "source": [
    "for hypo, prob in pmf.Items():\n",
    "    print hypo, prob\n",
    "    "
   ]
  },
  {
   "cell_type": "code",
   "execution_count": 8,
   "metadata": {
    "collapsed": false
   },
   "outputs": [
    {
     "name": "stdout",
     "output_type": "stream",
     "text": [
      "Bowl 2 0.6\n",
      "Bowl 1 0.4\n",
      "Bowl 2 0.428571428571\n",
      "Bowl 1 0.571428571429\n",
      "Bowl 2 0.26213592233\n",
      "Bowl 1 0.73786407767\n"
     ]
    }
   ],
   "source": [
    "dataset = ['vanilla', 'chocolate','chocolate']\n",
    "for data in dataset:\n",
    "    pmf.Update(data)\n",
    "    for hypo, prob in pmf.Items():\n",
    "        print hypo, prob"
   ]
  }
 ],
 "metadata": {
  "kernelspec": {
   "display_name": "Python 2",
   "language": "python",
   "name": "python2"
  },
  "language_info": {
   "codemirror_mode": {
    "name": "ipython",
    "version": 2
   },
   "file_extension": ".py",
   "mimetype": "text/x-python",
   "name": "python",
   "nbconvert_exporter": "python",
   "pygments_lexer": "ipython2",
   "version": "2.7.12"
  }
 },
 "nbformat": 4,
 "nbformat_minor": 1
}
